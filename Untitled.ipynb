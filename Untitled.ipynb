{
 "cells": [
  {
   "cell_type": "markdown",
   "id": "086238fe",
   "metadata": {},
   "source": [
    "#### This is a data cleaning notebook -- For cleaning animated shows csv file. the visualization would be done in Power BI"
   ]
  },
  {
   "cell_type": "markdown",
   "id": "534564d9",
   "metadata": {},
   "source": [
    "#### Import needed libraries"
   ]
  },
  {
   "cell_type": "code",
   "execution_count": 1,
   "id": "b92ee6d3",
   "metadata": {},
   "outputs": [],
   "source": [
    "import pandas as pd\n",
    "import numpy as np\n",
    "import re\n",
    "from ast import literal_eval"
   ]
  },
  {
   "cell_type": "markdown",
   "id": "cd9cdac0",
   "metadata": {},
   "source": [
    "**Load The file** "
   ]
  },
  {
   "cell_type": "code",
   "execution_count": 2,
   "id": "c0b7210f",
   "metadata": {},
   "outputs": [],
   "source": [
    "df = pd.read_csv('Animated Shows 1987-2022.csv')"
   ]
  },
  {
   "cell_type": "markdown",
   "id": "dcad6dcc",
   "metadata": {},
   "source": [
    "**Explore the dataset**"
   ]
  },
  {
   "cell_type": "code",
   "execution_count": 3,
   "id": "332aa1ff",
   "metadata": {},
   "outputs": [
    {
     "data": {
      "text/html": [
       "<div>\n",
       "<style scoped>\n",
       "    .dataframe tbody tr th:only-of-type {\n",
       "        vertical-align: middle;\n",
       "    }\n",
       "\n",
       "    .dataframe tbody tr th {\n",
       "        vertical-align: top;\n",
       "    }\n",
       "\n",
       "    .dataframe thead th {\n",
       "        text-align: right;\n",
       "    }\n",
       "</style>\n",
       "<table border=\"1\" class=\"dataframe\">\n",
       "  <thead>\n",
       "    <tr style=\"text-align: right;\">\n",
       "      <th></th>\n",
       "      <th>Title</th>\n",
       "      <th>Seasons</th>\n",
       "      <th>Episodes</th>\n",
       "      <th>Country</th>\n",
       "      <th>Premiere Year</th>\n",
       "      <th>Final Year</th>\n",
       "      <th>Original Channel</th>\n",
       "      <th>Technique</th>\n",
       "    </tr>\n",
       "  </thead>\n",
       "  <tbody>\n",
       "    <tr>\n",
       "      <th>0</th>\n",
       "      <td>ABC with Kenny G</td>\n",
       "      <td>TBA</td>\n",
       "      <td>TBA</td>\n",
       "      <td>Canada</td>\n",
       "      <td>2021.0</td>\n",
       "      <td>2021</td>\n",
       "      <td>TVOkids</td>\n",
       "      <td>Flash</td>\n",
       "    </tr>\n",
       "    <tr>\n",
       "      <th>1</th>\n",
       "      <td>Abominable and the Invisible City</td>\n",
       "      <td>TBA</td>\n",
       "      <td>TBA</td>\n",
       "      <td>United States</td>\n",
       "      <td>2022.0</td>\n",
       "      <td>2022</td>\n",
       "      <td>Peacock</td>\n",
       "      <td>CGI</td>\n",
       "    </tr>\n",
       "    <tr>\n",
       "      <th>2</th>\n",
       "      <td>Batwheels</td>\n",
       "      <td>TBA</td>\n",
       "      <td>TBA</td>\n",
       "      <td>United States</td>\n",
       "      <td>2022.0</td>\n",
       "      <td>2022</td>\n",
       "      <td>Cartoonito / HBO Max</td>\n",
       "      <td>CGI</td>\n",
       "    </tr>\n",
       "    <tr>\n",
       "      <th>3</th>\n",
       "      <td>Best &amp; Bester</td>\n",
       "      <td>TBA</td>\n",
       "      <td>TBA</td>\n",
       "      <td>Canada</td>\n",
       "      <td>2022.0</td>\n",
       "      <td>2022</td>\n",
       "      <td>YTV</td>\n",
       "      <td>Flash</td>\n",
       "    </tr>\n",
       "    <tr>\n",
       "      <th>4</th>\n",
       "      <td>Builder Brothers' Dream Factory</td>\n",
       "      <td>TBA</td>\n",
       "      <td>TBA</td>\n",
       "      <td>Canada</td>\n",
       "      <td>2022.0</td>\n",
       "      <td>2022</td>\n",
       "      <td>Treehouse TV</td>\n",
       "      <td>CGI</td>\n",
       "    </tr>\n",
       "  </tbody>\n",
       "</table>\n",
       "</div>"
      ],
      "text/plain": [
       "                               Title Seasons Episodes        Country  \\\n",
       "0                   ABC with Kenny G     TBA      TBA         Canada   \n",
       "1  Abominable and the Invisible City     TBA      TBA  United States   \n",
       "2                          Batwheels     TBA      TBA  United States   \n",
       "3                      Best & Bester     TBA      TBA         Canada   \n",
       "4    Builder Brothers' Dream Factory     TBA      TBA         Canada   \n",
       "\n",
       "   Premiere Year Final Year      Original Channel Technique  \n",
       "0         2021.0       2021               TVOkids     Flash  \n",
       "1         2022.0       2022               Peacock       CGI  \n",
       "2         2022.0       2022  Cartoonito / HBO Max       CGI  \n",
       "3         2022.0       2022                   YTV     Flash  \n",
       "4         2022.0       2022          Treehouse TV       CGI  "
      ]
     },
     "execution_count": 3,
     "metadata": {},
     "output_type": "execute_result"
    }
   ],
   "source": [
    "df.head()"
   ]
  },
  {
   "cell_type": "code",
   "execution_count": 4,
   "id": "79fa0c90",
   "metadata": {},
   "outputs": [
    {
     "name": "stdout",
     "output_type": "stream",
     "text": [
      "<class 'pandas.core.frame.DataFrame'>\n",
      "RangeIndex: 3477 entries, 0 to 3476\n",
      "Data columns (total 8 columns):\n",
      " #   Column            Non-Null Count  Dtype  \n",
      "---  ------            --------------  -----  \n",
      " 0   Title             2477 non-null   object \n",
      " 1   Seasons           1778 non-null   object \n",
      " 2   Episodes          2439 non-null   object \n",
      " 3   Country           2477 non-null   object \n",
      " 4   Premiere Year     2477 non-null   float64\n",
      " 5   Final Year        2477 non-null   object \n",
      " 6   Original Channel  2422 non-null   object \n",
      " 7   Technique         2472 non-null   object \n",
      "dtypes: float64(1), object(7)\n",
      "memory usage: 217.4+ KB\n"
     ]
    }
   ],
   "source": [
    "df.info()"
   ]
  },
  {
   "cell_type": "code",
   "execution_count": 5,
   "id": "e5d62ccf",
   "metadata": {},
   "outputs": [
    {
     "data": {
      "text/plain": [
       "array(['TBA', '2 Toon Series', '65', '33', '26', '23', '22', '20', '19',\n",
       "       '18', '15', '14', '13', '12', '11', '10', '9', '8', '7', '6', '5',\n",
       "       '4', '3', '2', '1', nan], dtype=object)"
      ]
     },
     "execution_count": 5,
     "metadata": {},
     "output_type": "execute_result"
    }
   ],
   "source": [
    "df['Seasons'].unique()"
   ]
  },
  {
   "cell_type": "markdown",
   "id": "c6a18f36",
   "metadata": {},
   "source": [
    "**Inconsistence in the values in seasons such as 'TBA'**"
   ]
  },
  {
   "cell_type": "code",
   "execution_count": 6,
   "id": "69316174",
   "metadata": {},
   "outputs": [],
   "source": [
    "#df['Episodes'].unique()"
   ]
  },
  {
   "cell_type": "markdown",
   "id": "df381b01",
   "metadata": {},
   "source": [
    "**Inconsistencies in Episodes column such as 'TBA', '100+ (as of April 1..)', '78[22]' etc**"
   ]
  },
  {
   "cell_type": "code",
   "execution_count": 7,
   "id": "fac1d1ec",
   "metadata": {},
   "outputs": [
    {
     "data": {
      "text/plain": [
       "array(['United States', 'United Kingdom', 'Canada, United States',\n",
       "       'France', 'China', 'Italy', 'UK', 'French',\n",
       "       'United States, Canada'], dtype=object)"
      ]
     },
     "execution_count": 7,
     "metadata": {},
     "output_type": "execute_result"
    }
   ],
   "source": [
    "df['Country'].unique()[1:10]"
   ]
  },
  {
   "cell_type": "markdown",
   "id": "3aca807b",
   "metadata": {},
   "source": [
    "**Comma separated entries such as 'canada, United States' etc are pretty much and needs to be corrected**"
   ]
  },
  {
   "cell_type": "code",
   "execution_count": 8,
   "id": "6fedca4d",
   "metadata": {},
   "outputs": [
    {
     "name": "stdout",
     "output_type": "stream",
     "text": [
      "0       2021.0\n",
      "1       2022.0\n",
      "2       2022.0\n",
      "3       2022.0\n",
      "4       2022.0\n",
      "         ...  \n",
      "3472       NaN\n",
      "3473       NaN\n",
      "3474       NaN\n",
      "3475       NaN\n",
      "3476       NaN\n",
      "Name: Premiere Year, Length: 3477, dtype: float64\n",
      "<class 'pandas.core.series.Series'>\n"
     ]
    }
   ],
   "source": [
    "print(df['Premiere Year'])\n",
    "print(type(df['Premiere Year']))"
   ]
  },
  {
   "cell_type": "markdown",
   "id": "11b5528b",
   "metadata": {},
   "source": [
    "**Premiere year is in float**"
   ]
  },
  {
   "cell_type": "code",
   "execution_count": 9,
   "id": "67af95ab",
   "metadata": {},
   "outputs": [
    {
     "data": {
      "text/plain": [
       "array(['2021', '2022', 'Present', '2002', '2013', '2008', '2003', '2010',\n",
       "       '2015', '2004', '2018', '2019', '2020', '1996', '2017', '1990',\n",
       "       '1997', '2014', '2005', '1998', '1994', '2012', '1991', '2006',\n",
       "       '2007', '2009', '2011', '1999', '2000', '2001', '1995', '2016',\n",
       "       '1993', '1992', '1988', '1989', '1987', nan], dtype=object)"
      ]
     },
     "execution_count": 9,
     "metadata": {},
     "output_type": "execute_result"
    }
   ],
   "source": [
    "df['Final Year'].unique()"
   ]
  },
  {
   "cell_type": "markdown",
   "id": "589ce838",
   "metadata": {},
   "source": [
    "**'Present' is not a year type**"
   ]
  },
  {
   "cell_type": "code",
   "execution_count": 10,
   "id": "35c2e32a",
   "metadata": {},
   "outputs": [
    {
     "name": "stdout",
     "output_type": "stream",
     "text": [
      "['Nickelodeon' 'Apple TV+' 'Cartoon Network / HBO Max' 'Disney+' 'Fox'\n",
      " 'Youku' 'Milkshake!' 'M6' 'Teletoon' 'PBS Kids' 'Adult Swim' 'CBC Kids'\n",
      " 'CBBC' 'Paramount+' 'Okoo' 'Canal+ Kids' 'Disney Channel'\n",
      " 'Newgrounds, YouTube' 'Comedy Central'\n",
      " 'Teletoon (Canada), Treehouse TV (Canada), Discovery Kids (Latin American)']\n"
     ]
    }
   ],
   "source": [
    "print(df['Original Channel'].unique()[10:30])"
   ]
  },
  {
   "cell_type": "markdown",
   "id": "fd12c619",
   "metadata": {},
   "source": [
    "**Alot of channels are comma separated and also having unneeded adons**"
   ]
  },
  {
   "cell_type": "code",
   "execution_count": 11,
   "id": "276bc6c4",
   "metadata": {},
   "outputs": [],
   "source": [
    "#print(df['Technique'].unique()[10:30])"
   ]
  },
  {
   "cell_type": "markdown",
   "id": "7eee2037",
   "metadata": {},
   "source": [
    "**Same inconsistent issues is showed here, many separated techniques in one entries**"
   ]
  },
  {
   "cell_type": "markdown",
   "id": "6e20fb77",
   "metadata": {},
   "source": [
    "### Data Cleaning procedure"
   ]
  },
  {
   "cell_type": "markdown",
   "id": "a6c62f24",
   "metadata": {},
   "source": [
    "**Due to the multiple comma separated entries, I will create separate tables for some columns inorder for me to separate those entries**"
   ]
  },
  {
   "cell_type": "code",
   "execution_count": 12,
   "id": "f8fa6adc",
   "metadata": {},
   "outputs": [],
   "source": [
    "#Movie title table\n",
    "#First off, i will drop off every nan rows in the title\n",
    "\n",
    "df = df.dropna(axis=0, subset=['Title'])"
   ]
  },
  {
   "cell_type": "code",
   "execution_count": 13,
   "id": "29d50a07",
   "metadata": {},
   "outputs": [],
   "source": [
    "df_title = pd.DataFrame(\n",
    "   { \"id\": [i for i in range(1, len(df['Title'])+1)],\n",
    "    \"Title\": df['Title'],\n",
    "    \"Seasons\": df['Seasons'],\n",
    "    \"Episodes\": df['Episodes'],\n",
    "    \"Premiere Year\": df['Premiere Year'],\n",
    "    \"Final Year\": df['Final Year'],\n",
    "   }\n",
    "    )"
   ]
  },
  {
   "cell_type": "code",
   "execution_count": 14,
   "id": "d26bdc15",
   "metadata": {},
   "outputs": [],
   "source": [
    "#Set the index to be id\n",
    "df_title = df_title.set_index(keys=\"id\")"
   ]
  },
  {
   "cell_type": "code",
   "execution_count": 15,
   "id": "e8225971",
   "metadata": {},
   "outputs": [],
   "source": [
    "#Next, we create the countries column\n",
    "df_country = pd.DataFrame(\n",
    "    {\n",
    "        \"title_id\": df_title.index,\n",
    "        \"Country\": df['Country']\n",
    "    }\n",
    ")"
   ]
  },
  {
   "cell_type": "code",
   "execution_count": 16,
   "id": "0c2036b7",
   "metadata": {},
   "outputs": [],
   "source": [
    "df_country = df_country.set_index(keys=\"title_id\")"
   ]
  },
  {
   "cell_type": "code",
   "execution_count": 17,
   "id": "fcd4b29f",
   "metadata": {},
   "outputs": [],
   "source": [
    "#Create for original channels and Technique\n",
    "df_channel = pd.DataFrame(\n",
    "    {\n",
    "        \"title_id\": df_title.index,\n",
    "        \"original_channels\": df['Original Channel']\n",
    "    }\n",
    ")\n",
    "df_channel = df_channel.set_index(keys=\"title_id\")\n",
    "\n",
    "df_technique = pd.DataFrame(\n",
    "    {\n",
    "        \"title_id\": df_title.index,\n",
    "        \"technique\": df['Technique']\n",
    "    }\n",
    ")\n",
    "df_technique = df_technique.set_index(keys=\"title_id\")\n"
   ]
  },
  {
   "cell_type": "markdown",
   "id": "74951de6",
   "metadata": {},
   "source": [
    "**it is now tidy.**\n",
    "**Next, each table needs cleaning**"
   ]
  },
  {
   "cell_type": "code",
   "execution_count": 18,
   "id": "524f499e",
   "metadata": {},
   "outputs": [
    {
     "data": {
      "text/plain": [
       "array(['TBA', '2 Toon Series', '65', '33', '26', '23', '22', '20', '19',\n",
       "       '18', '15', '14', '13', '12', '11', '10', '9', '8', '7', '6', '5',\n",
       "       '4', '3', '2', '1', nan], dtype=object)"
      ]
     },
     "execution_count": 18,
     "metadata": {},
     "output_type": "execute_result"
    }
   ],
   "source": [
    "#The title table -- change TBA to 0, replace nan with 0, and 2 Toon Series to 2 from the Seasons column\n",
    "df_title['Seasons'].unique()"
   ]
  },
  {
   "cell_type": "code",
   "execution_count": 19,
   "id": "7934d3d6",
   "metadata": {},
   "outputs": [],
   "source": [
    "df_title['Seasons'] = df_title['Seasons'].replace(to_replace=['TBA', '2 Toon Series', np.nan], value=[0, 2, 0]).astype('int')"
   ]
  },
  {
   "cell_type": "markdown",
   "id": "f5475479",
   "metadata": {},
   "source": [
    "+ For the Episodes column, relace TBA with 0,\n",
    "+ 10[20], take the value before the opening square bracket\n",
    "+ 100+ take the value before the +\n",
    "+ 52 (...) take the value before the bracket\n",
    "+ 1,458 remove the comma\n",
    "+ replace nan with 0"
   ]
  },
  {
   "cell_type": "code",
   "execution_count": 20,
   "id": "99f8ac3f",
   "metadata": {},
   "outputs": [],
   "source": [
    "#Define a function to carry out the replacement and save to a string\n",
    "def regex_func(the_list):\n",
    "    new_list = list()\n",
    "    pattern_1 = re.compile(r'TBA')\n",
    "    pattern_2 = re.compile(r'\\+?\\s?\\([A-Za-z0-9\\s,\\.]+\\)')\n",
    "    pattern_3 = re.compile(r'\\[[0-9]+\\](\\[[0-9]+\\])?')\n",
    "    pattern_4 = re.compile(r',')\n",
    "    for string in the_list:\n",
    "        if pattern_1.search(str(string)):\n",
    "            new_list.append(pattern_1.sub('0', str(string)))\n",
    "        elif pattern_2.search(str(string)):\n",
    "            new_list.append(pattern_2.sub('', str(string)))\n",
    "        elif pattern_3.search(str(string)):\n",
    "            new_list.append(pattern_3.sub('', str(string)))\n",
    "        elif pattern_4.search(str(string)):\n",
    "            new_list.append(pattern_4.sub('', str(string)))\n",
    "        elif str(string) == 'nan':\n",
    "            new_list.append(str(0))\n",
    "        else: \n",
    "            new_list.append(str(string))\n",
    "    return new_list"
   ]
  },
  {
   "cell_type": "code",
   "execution_count": 21,
   "id": "370f51e3",
   "metadata": {},
   "outputs": [],
   "source": [
    "#Replace the values of Episodes column with the new list\n",
    "df_title['Episodes'] = regex_func(df_title.Episodes.to_list())"
   ]
  },
  {
   "cell_type": "code",
   "execution_count": 113,
   "id": "e19d54cb",
   "metadata": {},
   "outputs": [],
   "source": [
    "df_title[\"Premiere Year\"] = df_title[\"Premiere Year\"].astype('int')"
   ]
  },
  {
   "cell_type": "markdown",
   "id": "77aa03f3",
   "metadata": {},
   "source": [
    "**For the country table**\n",
    "+ Turn the column entries to list type value\n",
    "+ Then use the explode function to split and creat new rows for the entries\n",
    "+ remove spaces before the countries such as ' United states'\n",
    "+ change inconsistent names to consistent ones such as United states, USA, US etc\n",
    "+ remove brackets from some countries such as 'Britain (season 1)\n",
    "+ A country called 13 is a mistake because the cartoon title is 3-2-1 Penguins which was an American series. "
   ]
  },
  {
   "cell_type": "code",
   "execution_count": 22,
   "id": "4f339697",
   "metadata": {},
   "outputs": [],
   "source": [
    "#convert to list types\n",
    "df_country['Country'] = df_country['Country'].str.split(',')"
   ]
  },
  {
   "cell_type": "code",
   "execution_count": 23,
   "id": "d7495869",
   "metadata": {},
   "outputs": [],
   "source": [
    "#use the explode method for unstacking comma separated entries while maintaining their title_id's\n",
    "df_country = df_country.explode('Country')"
   ]
  },
  {
   "cell_type": "code",
   "execution_count": 24,
   "id": "52ae0b49",
   "metadata": {},
   "outputs": [],
   "source": [
    "#Remove trailing and beginning spaces using strip\n",
    "df_country['Country'] = df_country['Country'].str.strip()"
   ]
  },
  {
   "cell_type": "code",
   "execution_count": 25,
   "id": "7182266b",
   "metadata": {},
   "outputs": [],
   "source": [
    "#df_country['Country'].unique()"
   ]
  },
  {
   "cell_type": "code",
   "execution_count": 26,
   "id": "a7357b4d",
   "metadata": {},
   "outputs": [],
   "source": [
    "#Hardcode replacing\n",
    "to_replace = ['United States', 'US', 'United Kingdom' ,'Britain (Seasons 1–2)', 'South Korea (season 4)','13', 'Italian','Polish','Australian', 'British','English (New Zealand)', 'Canada (Series 1)', 'Welsh', 'Vietman', 'Spanish (Chile)','Israeli', 'United States (revival)[1]'  ]\n",
    "value = ['USA', 'USA', 'UK', 'UK', 'South Korea', 'USA', 'Italy', 'Poland', 'Australia', 'UK', 'New Zealand', 'Canada', 'UK', 'Vietnam', 'Chile', 'Israel', 'USA']\n",
    "df_country['Country'] = df_country['Country'].replace(to_replace=to_replace, value=value)"
   ]
  },
  {
   "cell_type": "code",
   "execution_count": null,
   "id": "3e9e95e3",
   "metadata": {},
   "outputs": [],
   "source": []
  },
  {
   "cell_type": "markdown",
   "id": "0e7204a6",
   "metadata": {},
   "source": [
    "**The channels column**\n",
    "+ some channels are in this format 'TV (Canada)' remove the bracket and everything in it\n",
    "+ some of the channels are separated with / and others with ,-- replace / with ,\n",
    "+ unstack using explode"
   ]
  },
  {
   "cell_type": "code",
   "execution_count": 27,
   "id": "c9279b4c",
   "metadata": {},
   "outputs": [],
   "source": [
    "#df_channel['original_channels'].unique()"
   ]
  },
  {
   "cell_type": "code",
   "execution_count": 28,
   "id": "8b24490e",
   "metadata": {},
   "outputs": [],
   "source": [
    "def channel_regex(original_list):\n",
    "    new_list = list()\n",
    "    pattern_1 = re.compile(r'\\([a-zA-Z0-9-,–\\.!\\s/]+\\)')\n",
    "    pattern_2 = re.compile(r'/')\n",
    "    for string in original_list:\n",
    "        if pattern_1.search(str(string)):\n",
    "            intermediate_value = pattern_1.sub('', str(string))\n",
    "            if pattern_2.search(str(intermediate_value)):\n",
    "                new_list.append(pattern_2.sub(',', intermediate_value))\n",
    "            else:\n",
    "                new_list.append(intermediate_value)\n",
    "        elif pattern_2.search(str(string)):\n",
    "            new_list.append(pattern_2.sub(',', string))\n",
    "        else:\n",
    "            new_list.append(str(string))\n",
    "    return new_list"
   ]
  },
  {
   "cell_type": "code",
   "execution_count": 29,
   "id": "6502f836",
   "metadata": {},
   "outputs": [],
   "source": [
    "# b = 'Peacock (Next Big Thing Is Here!)'\n",
    "# pattern_6 = re.compile(r'\\([a-zA-Z0-9-,–\\.!\\s/]+\\)')\n",
    "# matches = pattern_6.finditer(b)\n",
    "# for match in matches:\n",
    "# \tprint(match)"
   ]
  },
  {
   "cell_type": "code",
   "execution_count": 30,
   "id": "162a50ec",
   "metadata": {},
   "outputs": [],
   "source": [
    "df_channel['original_channels'] = channel_regex(df_channel['original_channels'].to_list())"
   ]
  },
  {
   "cell_type": "code",
   "execution_count": 31,
   "id": "ebb5dfa7",
   "metadata": {},
   "outputs": [
    {
     "data": {
      "text/plain": [
       "array(['TVOkids', 'Peacock', 'Cartoonito , HBO Max', 'YTV',\n",
       "       'Treehouse TV', 'TBA', 'Netflix', 'Roku', 'Cartoonito',\n",
       "       'Disney+ , Disney Junior', 'Nickelodeon', 'Apple TV+',\n",
       "       'Cartoon Network , HBO Max', 'Disney+', 'Fox', 'Youku',\n",
       "       'Milkshake!', 'M6', 'Teletoon', 'PBS Kids', 'Adult Swim',\n",
       "       'CBC Kids', 'CBBC', 'Paramount+', 'Okoo', 'Canal+ Kids',\n",
       "       'Disney Channel', 'Newgrounds, YouTube', 'Comedy Central',\n",
       "       'Teletoon , Treehouse TV , Discovery Kids ', 'YouTube',\n",
       "       'Fox , TBS ', 'Cartoon Network', 'Fox, FXX', 'CBBC, Channel 5',\n",
       "       'Cartoon Network, Adult Swim', 'Showcase',\n",
       "       'Dailymotion ,Newgrounds ', 'Syndication, CBS',\n",
       "       'PBS, CBC, Discovery, YouTube', 'Nickelodeon, Nicktoons',\n",
       "       'ITV, BBC One', 'RTE',\n",
       "       'Discovery Family, Discovery Kids, Cartoonito', 'Karusel', 'MTV',\n",
       "       'Netflix ,Discovery Kids ', 'Cartoon Network, Netflix', 'E4',\n",
       "       'Disney XD', 'The Comedy Network', 'Hulu, Peacock', 'ZDF, Netflix',\n",
       "       'Fox Kids', 'Nickelodeon, ABC', 'Fox, Comedy Central, Hulu', 'CBS',\n",
       "       'France 3', 'Nick Jr.',\n",
       "       'Channel 5, Clan, Cartoon Network, Discovery Kids, Nick Jr, YouTube',\n",
       "       'nan', 'CBC, HBO',\n",
       "       'CBeebies , Nick Jr. , PBS Kids , Discovery Kids ', 'TBS',\n",
       "       'MTV, MTV2', 'YouTube, Mondo Media', 'Treehouse TV, CBS, Noggin',\n",
       "       'MTV Brasil', 'CITV', 'Family Channel',\n",
       "       \"Kids' WB  , Cartoon Network , Teletoon \",\n",
       "       'Nick Jr., PBS Kids, YTV, CITV', 'Discovery Kids', 'TRT Çocuk',\n",
       "       'Schweizer Fernsehen, Cbeebies', 'France 5 , Disney Junior ',\n",
       "       'ABC', 'France 2', 'Netflix, Discovery Kids ', 'TF1, Teletoon',\n",
       "       'RTL, Hulu, Peacock', 'TVOntario, PBS Kids, Discovery Kids',\n",
       "       'M6 , Nickelodeon , Nicktoons ', \"Fox Kids, Kids' WB\",\n",
       "       'Disney Junior', 'Canal 5', 'Syndication', \"Kids' WB\",\n",
       "       'Disney Junior ', 'CBC, Nickelodeon', 'Direct-To-DVD', 'HBO Max',\n",
       "       'Piwi+, Canal+ Family, TF1', 'ITV, CITV', 'PBS Kids Go!', 'TVNZ',\n",
       "       'EBS , syndicated , Universal Kids , Hop! Channel , Netflix , Discovery Kids ',\n",
       "       'EBS', 'Showtime, Nickelodeon',\n",
       "       'France 3, Cartoon Network, Boomerang', 'Channel 4',\n",
       "       'CBC Television', 'Canal J', 'CBeebies, Discovery Kids',\n",
       "       'MTV Latin America', 'CBeebies', 'Channel 4, BBC Three', 'LWT',\n",
       "       'ABC, Fox Kids', 'Global, Channel 4',\n",
       "       'CBS, The Disney Channel, Syndication', 'YouTube, Teletoon', 'FXX',\n",
       "       'ITV', 'TF1', 'USA Network', 'France 3, Netflix',\n",
       "       'UPN, Adult Swim', 'Cartoon Network, HBO Max',\n",
       "       'Teletoon , Family Channel ', 'ČT1, ČT2, ČT :D', 'PBS Kids, TLC',\n",
       "       'Canal+', 'CTC, Nick Jr', 'Cartoon Network Turkey',\n",
       "       'KBS, Disney XD', 'Nickelodeon, Nick Jr., Treehouse TV',\n",
       "       'Toon Disney', 'ZDF, Nick Jr.', 'TF1 , EBS 1 , Disney Channel',\n",
       "       'Cartoon Network, Tooncast', 'BBC One and BBC Two',\n",
       "       'Family Channel, France 3', 'Clan TVE , Discovey Kids, YouTube',\n",
       "       'Nickelodeon, Nicktoons, Ludo , Netflix', 'YTV, Discovery Kids',\n",
       "       'Disney XD, Disney Channel',\n",
       "       'Discovery Family, Disney Junior, Discovery Kids', 'TV Tokyo',\n",
       "       'Cartoon Network , Teletoon ', 'ARD',\n",
       "       'Family Chrgd , 7TWO , Discovery Kids ', 'Tooniverse', 'E4, YTV',\n",
       "       'PBS', 'The Disney Channel, ABC',\n",
       "       'The Hub Network, Discovery Family', 'Nickelodeon, Rai 2',\n",
       "       'Cartoon Network , DC Universe , HBO Max ',\n",
       "       'Adult Swim, Adult Swim Video ', 'Direct to video,Qubo',\n",
       "       'The Disney Channel, Syndication, CBS',\n",
       "       'Fox Family Channel, Syndication',\n",
       "       'YTV , Cartoon Network , Disney XD', 'Fox Family Channel',\n",
       "       'ToonsTV, Discovey Kids ', \"Kids' CBC, Discovery Kids\", 'HBO',\n",
       "       'Teletoon, M6, Télétoon',\n",
       "       'Treehouse TV, Discovery Kids, YTV , TF1 Disn, ey Junior ',\n",
       "       'ABC2, Discovery Kids , Boing ', 'CBS, YTV', '7TWO, Netflix',\n",
       "       'Kuwait TV', 'ABC Kids , Disney Junior ',\n",
       "       'Channel 5 , PBS Kids , Family Jr. ', 'TV3', 'Antenne 2',\n",
       "       'Fox Kids, CITV', 'Boomerang, Cartoon Network', 'NBC',\n",
       "       'Teletoon, Disney XD', '4Kids TV', 'CBeebies , Discovery Kids ',\n",
       "       'The Disney Channel, Syndication', 'DreamWorks Channel, Peacock',\n",
       "       'Amazon Video', 'The Disney Channel, Syndication, ABC',\n",
       "       'KBS1, Tooniverse', 'CBCJetix', 'PBS Kids, CBC Television',\n",
       "       'Seven Network, YTV', 'Channel 5 , Nick Jr. , Discovery Kids ',\n",
       "       'Star TV', 'Seven Network, ABC3', 'BBC2', 'ABC, Syndication',\n",
       "       'TVOKids', 'France 3, Gloob , Nat Geo Kids , Biggs ', 'UPN',\n",
       "       'Sprout', '7TWO', '10 Peach', 'MTV, BBC Two',\n",
       "       'HBO , The Family Channel, Disney Channel', 'KRO , Tiny Pop ',\n",
       "       'Treehouse TV , CBeebies , Discovery Kids ',\n",
       "       'NHK , Rai Yoyo , KiKA , EBS , Milkshake! ',\n",
       "       \"Channel 4, The Children's Channel\", 'PBS Kids , Discovery Kids ',\n",
       "       'Cartoon Network, Boomerang, Boomerang VOD ', 'TV Rá-Tim-Bum',\n",
       "       'Nicktoons', 'BBC1', 'ITV Network, Channel 5', 'BBC', 'Showtime',\n",
       "       'Disney XD , Discovey Kids , Tokyo MXTV ', 'Playhouse Disney',\n",
       "       'PBS Kids , SIC K , Pop ', 'KBS', 'Señal Colombia', 'YTV, The Hub',\n",
       "       'Treehouse TV , Tiny Pop , Nat Geo Kids ',\n",
       "       'Geometry Team TV, Nickelodeon', 'Teletoon , Nickelodeon ',\n",
       "       'Treehouse TV, Nick Jr.', 'UPN, ABC',\n",
       "       'YTV , Cartoon Network , Disney XD, Nickelodeon', 'Qubo',\n",
       "       'YTV , Cartoon Network  , Qubo , CBBC and Going Live, Disney XD ',\n",
       "       'France 5', 'Kinderkanal',\n",
       "       'Rede Globo, Cartoon Network, Tooncast, Boomerang', 'Hulu',\n",
       "       'ABC Kids, Family Channel, Playhouse Disney', 'YTV, Fox',\n",
       "       'Crackle', 'Seven Network', 'YTV, Teletoon, ABC, CBS',\n",
       "       'Global Television Network', 'Treehouse, PBS Kids',\n",
       "       'Treehouse TV, PBS Kids', 'ABC3',\n",
       "       'France 3, Ludo, Boomerang, Pakapaka, Sprout, Nat Geo Kids',\n",
       "       'HBO Family', 'Boomerang, Disney Channel, YouTube', 'Fox, The WB',\n",
       "       'Network Ten', 'Disney Channel, Nickelodeon',\n",
       "       'Syndication, CBS, Toon Disney', 'Syndication, Fox Kids',\n",
       "       'Teletoon, Cartoon Network', 'The Hub , Hub Network',\n",
       "       'TV Cultura, TV Brasil, Cartoon Network, Tooncast',\n",
       "       'Netflix, Adult Swim', 'Netflix , Discovery kids , Clan ',\n",
       "       'Disney XD, YouTube', 'Hungama TV', 'YTV, CITV',\n",
       "       'Gulli, France TV', 'Syndication, USA Network', 'KRO',\n",
       "       'RTVE , Carousel , Clan , Nick Jr. , Nat Geo Kids ',\n",
       "       'Canal+, TF1, Gulli, Boomerang Africa, Disney XD ',\n",
       "       'Disney Junior, Disney Channel', 'ABC Me', 'TBS, Syndication',\n",
       "       'NBC ', 'Rai Yoyo , Nick.Jr , Discovery Kids ',\n",
       "       \"It's Itsy Bitsy Time, Noggin, Universal Kids\", 'Jetix',\n",
       "       'TVOKids , Nick Jr. ', 'Treehouse TV , Discovery Kids ',\n",
       "       'GMA Network', 'Netflix, 9Go!',\n",
       "       'Nickelodeon Brazil , TV Rá-Tim-Bum ', 'APTN Kids',\n",
       "       'Netflix , Peacock ', 'Rai 3, Rai Yoyo', 'CBebbies',\n",
       "       'The WB, Adult Swim', 'Teletoon, Fox Family Channel',\n",
       "       'Rai Gulp , RTVE ', 'Rai Gulp',\n",
       "       'Cartoon Network , Boomerang , Boomerang SVOD ', 'Fox Kids, YTV',\n",
       "       'CBS, Fox Kids', 'CBeebies, Nat Geo Kids',\n",
       "       'Discovery Family , iQiyi ', 'Cartoon Network, 4Kids TV',\n",
       "       \"Children's BBC\", 'TF1, Rai Yoyo, TV Tokyo',\n",
       "       'EBS1, Disney XD, Clan', 'KBS2 , JEI TV ', 'Family Jr. , Netflix ',\n",
       "       'CITV , KiKA , Sprout', 'Gloob', 'Clan TV', 'Cartoon Network, YTV',\n",
       "       'Teletoon at Night', \"SBS, Kids' WB\",\n",
       "       'Netflix, Teletoon, Disney Channel ', 'BBC, TCC', 'Canal 13',\n",
       "       'BBC One,BBC Two, TCC, YTV', 'Ludo',\n",
       "       'CBC Kids , Universal Kids , Nat Geo Kids ', 'Hulu , Peacock',\n",
       "       'PBS, Treehouse TV, Playhouse Disney, CBC Kids', 'BBC One',\n",
       "       'Moolt, Moolt in Cinema, YouTube', 'ABC Kids', 'Frisbee, iQiyi',\n",
       "       'Canal+ Family , Télétoon+ , France 5, Zouzous , Pakapaka ',\n",
       "       'CBS, Teletoon', 'Treehouse TV , Mediacorp , Discovery Kids ',\n",
       "       'M6, Syndication', 'France 3, Clan', 'Teletoon , Cartoon Network ',\n",
       "       'The Disney Channel , Syndication , ABC ',\n",
       "       'Disney Channel , Disney XD ', 'NickToons',\n",
       "       'YouTube , Discovery Kids ', 'DC Universe',\n",
       "       'Nickelodeon , Nicktoons ', 'DrinkTV, Syfy',\n",
       "       'USA Network, Syndication', 'ITV Network', 'The WB', 'ABC1',\n",
       "       'Disney Channel, Teletoon',\n",
       "       'Direct-to-Video, YTV, Channel 4, Canal+, Nickelodeon',\n",
       "       'The History Channel',\n",
       "       'Cartoonito , Clan , Channel 5 , Discovery Kids ', 'Teletoon, SBS',\n",
       "       'Nick Jr., Discovery kids', 'Teletoon, Nicktoons',\n",
       "       'YTV, Disney XD', 'Nickelodeon, Nick Jr.', 'Canal +',\n",
       "       'PBS Kids , TVOKids , Knowledge Kids , Nat Geo Kids ', 'S4C',\n",
       "       'France 4', 'Amazon Prime Video, Discovery Kids ',\n",
       "       'Rai 1, Rai 2, Rai 3, Rai Gulp', 'Teletoon, PBS Kids',\n",
       "       'Disney XD, Netflix, Cartoon Network', 'Teletoon, Fox Family',\n",
       "       'La 1', 'YLE, Sky One', 'Discovery Kids, Treehouse TV',\n",
       "       'M6, Cartoon Network', 'Universal Kids',\n",
       "       'YTV, Nickelodeon, Teletoon, Disney XD , Disney Channel , Neox Kdz ',\n",
       "       'BBC One, BBC Two, CBeebies', 'Cartoon Network Brazil, TV Cultura',\n",
       "       'Canal+ Family', 'Disney Junior, Mango TV', 'Cbeebies, RTÉjr',\n",
       "       'Bobbypills', 'Treehouse TV, PBS Kids, Discovery Kids',\n",
       "       'Cartoon Network , France 4 , WDR , Gloob , Discovery Kids ',\n",
       "       'Jetix, Disney XD', 'RTÉjr', 'RTÉ2', 'YTV , Netflix ',\n",
       "       'YTV, Canal J', 'BBC Two', 'Rai 3, Rai Gulp, Rai Yoyo',\n",
       "       'TVOKids, Discovery Kids', 'Teletoon Detour', 'Nickelodeon[32]',\n",
       "       'Cartoon Network, Boomerang', 'CBBC, BBC', 'Tiny Pop', 'Clan TVE',\n",
       "       'YTV, First-run syndication',\n",
       "       'PBS Kids , Discovery Kids , France 5, Zouzous ', 'ITV, Teletoon',\n",
       "       'ABC Family', 'Canal J, Cartoon Network, Boomerang', 'Rai 2',\n",
       "       'Fuse', 'ABC Kids , Sprout ', 'The Hub, Discovery Kids',\n",
       "       'FoxBox,4Kids TV, Cartoon Network', 'ABC, Fox',\n",
       "       'Nine Network , Teletoon ', 'Hulu, Discovery Kids',\n",
       "       'CITV, Disney Junior', 'TF1, ZDF, Pakapaka, Discovery Kids',\n",
       "       'The Family Channel', 'Nickelodeon UK', 'Pogo TV',\n",
       "       'Syndication, ABC', 'The CW', 'Teletoon, Disney Junior', 'Rai 1',\n",
       "       'Discovery Family', 'Piwi+, France 5', 'Tencent Video',\n",
       "       'Network Ten, Eleven', \"Children's ITV\", 'CW Seed',\n",
       "       'First-run syndication', 'Disney Channel, Disney XD',\n",
       "       'BBC One,BBC Two', 'Amazon Prime Video',\n",
       "       'Nick Jr., Discovery Kids', 'France 3, Disney Channel',\n",
       "       'KBS1, Disney Channel , Netflix', 'Televisió de Catalunya, KiKa',\n",
       "       'Disney Channel, Disney+', 'YTV , Pop ', 'Beijing Television',\n",
       "       'CTV', 'Canal+, CBBC', '9Go! Kids', 'STS, Karusel',\n",
       "       'Netflix , RTÉjr ', 'CBBC, CBeebies, Cartoonito', 'Toons.TV',\n",
       "       'HBO Family, YTV', 'PAX, M6', 'TFI', 'TV Cultura',\n",
       "       'Teletoon, Disney XD, France 4', 'Cartoon Network ', 'Discovery+',\n",
       "       'EBS Korea, Nickelodeon', 'TF1 , Nick Jr. ',\n",
       "       'Ici Radio-Canada Télé, M6 ',\n",
       "       'Disney Channel , France Télévisions',\n",
       "       'CBC Kids , Nicktoons , ABC ME ', 'BBC Kids',\n",
       "       '2Spot Studios, RIFF Animation Studio', 'CBeebies, PBS Kids',\n",
       "       'SBS', 'Seven Network, CBBC, Netflix', 'CMT',\n",
       "       'YTV , Télé-Québec (Québec), TF1 ', 'Channel 4 , Teletoon ',\n",
       "       'Global', '9Go!', 'Canal+, Télétoon, TF1', 'YTV ',\n",
       "       'HBO, HBO Family', 'Amazon Prime, PBS Kids',\n",
       "       'Teletoon at Night, MTV', 'France Televisions',\n",
       "       'France 4, Canal J', 'Disney XD , Teletoon ', 'Nine Network',\n",
       "       'Teletoon, Fox Kids', 'Fox Family', 'Channel Five',\n",
       "       'PBS Kids, CBS', 'iQIYI', 'TVE', 'Nintendo', 'Syfy',\n",
       "       'Adult Swim , Télétoon la nuit', 'Family Channel, Nickelodeon',\n",
       "       'Disney Channel ', 'Fox Kids, Syndication',\n",
       "       'Teletoon , CBBC , TG4 , Boomerang ', 'TechTV', 'Italia 1',\n",
       "       'Playhouse Disney, France 3', 'ARD, KiKa',\n",
       "       'Teletoon, Télétoon, M6 Métropole Télévision',\n",
       "       'RTÉjr , Tiny Pop , Discovery Kids , TVOKids ',\n",
       "       'HBO, The Disney Channel', 'Disney XD, Nat Geo Kids', 'The Hub',\n",
       "       'G4', 'M6, Fox Kids', 'Nickelodeon , Gulli , Nicktoons ',\n",
       "       'Jetix , ABC Family', 'NBC, Adult Swim', 'CBeebies , ABC Kids ',\n",
       "       'Teletoon ', 'Family Jr.', '???', 'IFC', 'RTP2', 'Central TV',\n",
       "       'YTV , ABC , Qubo ', 'DR Ramasjang', 'China Central Television,',\n",
       "       'Teletoon, YTV, Cartoon Network, Fox Kids, Fox Family', 'TV2',\n",
       "       'Cartoon Network, BabyFirstTV', 'PlayKids, YouTube',\n",
       "       'Paramount+ , Nickelodeon', 'Noggin',\n",
       "       'Family, Radio-Canada, Treehouse TV, TVO Kids',\n",
       "       'DisneyLife, Disney+',\n",
       "       'WeTV,Iflix , NET , TV9 , Kapamilya Channel,A2Z , Netflix ',\n",
       "       'Fusion TV', 'ABC Television', 'KBS1',\n",
       "       'FOX Family, Fox Kids, CCTV, CBBC', 'Disney Channel Spain', 'TVE1',\n",
       "       'Cbeebies, Cartoonito', 'Knowledge Kids', 'CITV, Nick Jr.',\n",
       "       'Canal J, M6', 'Boomerang, Clan', 'Family Chrgd, Cartoon Network',\n",
       "       \"Syndication, Kids' WB\", 'Cartoonito, Boomerang', 'Viaplay',\n",
       "       'Disney Channel, Disney Junior', 'Hulu, City',\n",
       "       'France 5, Disney Junior', 'CCTV', 'The Disney Channel',\n",
       "       'Televisión Española', 'TF1, Canal+, YTV', 'Boomerang',\n",
       "       'France 3, Canal+', 'Crunchyroll', 'CBBC, CBeebies',\n",
       "       'Disney XD, Teletoon', 'AMC+', 'Teletoon, France 3',\n",
       "       'BBC Kids, BBC1, BFBS, YTV, SSVC Television, TV2', 'CBBC, TCC',\n",
       "       'Pop UK', 'Raisat Ragazzi, Rai 3, Rai Yoyo', 'The Wb',\n",
       "       'Teletoon , 9Go! ', 'Playboy TV', 'CBS, Treehouse TV', 'ITV1',\n",
       "       'France 2, France 3', 'Clan', 'VPRO', 'Direct-to-Video',\n",
       "       'France 2, BBC, Teletoon, RTP2, Canal Panda', 'DeA Kids',\n",
       "       'Fox Family Channel, Nickelodeon, Disney Channel',\n",
       "       'Fox Family Channel, CBBC, Nickelodeon', 'CBeebies , Sprout ',\n",
       "       'Super RTL , Discovery Family , HBO Max', 'Hub Network',\n",
       "       'YouTube, Newgrounds', 'Junior', 'Facebook , Instagram',\n",
       "       'TF1 , Clan ', 'O!, Carousel', 'Syndication, TF1',\n",
       "       'CCTV-1, CCTV-14', 'M8, Disney XD', 'BBC, Sky One', 'ABC, NBC',\n",
       "       'Disney+ , Discovery Kids', 'Nickelodeon , Paramount+',\n",
       "       'YTV, Syndication', 'Seven Network, Rai Fiction', 'FX', 'Tubi',\n",
       "       'Cartoon Network Nordic , YouTube ', 'Discovery Kids , Pop ',\n",
       "       'Hanna-Barbera', 'BBC TV', 'TVE2', 'ABC, Direct-to-video',\n",
       "       'CITV, Nickelodeon', 'Treehouse', 'Teletoon, Super RTL',\n",
       "       'Antenne 2, Radio-Canada', 'The Hub , Teletoon ',\n",
       "       'Disney Channel, Yle Areena', 'TBNWTIU', 'Syndication, M6',\n",
       "       'BBC1 BBC Two ', 'SVT1, SVT2', 'Cartoonito , Netflix',\n",
       "       'ABC, Nick Jr.', 'EBS1 , CBeebies ', 'MeTV',\n",
       "       'Teletoon, Cartoon Network Canada', 'KBS2', 'Canal Famille',\n",
       "       'ZDF, KiKa , Disney Channel, RAI ', 'AMC', 'CBeebies, BBC Two',\n",
       "       'The WB, FOX', 'Pakapaka', 'Channel 4, BBC One', 'Fox Family, YTV',\n",
       "       'BBC, CBeebies', 'Channel 5 , Junior ', 'Gulli',\n",
       "       'TVN, Cartoon Network', 'Milkshake!, PBS Kids',\n",
       "       'Network Ten, PBS Kids Go!',\n",
       "       'Raisat Ragazzi, Rai 3, Rai Gulp, Rai Yoyo',\n",
       "       'Amazon Video, TVOKids', 'Nicktoons Network', 'FX, FXX',\n",
       "       'Rai Yoyo, Nat Geo Kids', 'Netflix, CBeebies, Nick Jr.',\n",
       "       'Netflix, YouTube', 'Nick Jr', 'EBS, M6, BBC',\n",
       "       'Boomerang Australia, 9Go!', 'CITV, 4Kids TV', 'BET',\n",
       "       'Channel [V] Thailand', 'Nickelodeon, Treehouse', 'TV Brasil',\n",
       "       'YTV, GMA Network', 'SBT', 'Turner Classic Movies', 'LATV', 'Pogo',\n",
       "       'PBS Kids, CBeebies, Discovery Kids', 'Jetix, TF1',\n",
       "       'Noggin, Teledeporte', 'Nickelodeon, Treehouse TV', 'KiKa',\n",
       "       'RTEjr', 'History', 'Nickelodeon Brazil, SBT, Teletoon',\n",
       "       'Network Ten, CBC', 'K2', 'Treehouse TV, CBeebies', 'TVOntario',\n",
       "       'ANN', 'France 3, Canal J, Teletoon, Cartoon Network',\n",
       "       'Family Channel, YouTube', 'Ancol Dreamlight',\n",
       "       'YTV, Nicktoons Network', 'Televisa', 'Starz', 'KBS2, TVE2',\n",
       "       'HBO, Treehouse TV, HBO Max', 'Family Chrgd', 'Nick at Nite',\n",
       "       'TBS, Adult Swim', 'Mikeshake!', 'Family Channel, Five',\n",
       "       'Teletoon, France 2', 'MTV2', 'Spike TV',\n",
       "       'Nickelodeon Sonic, Rishtey', 'WCBS-TV', 'Rai 2, G4TV', 'Eleven',\n",
       "       'YTV, Disney Channel', 'Nickelodeon Sonic',\n",
       "       'CBeebies, Treehouse TV', 'NRK1', 'MBC', 'VH1', 'KBS2, CCTV-6',\n",
       "       'CITV, Nickelodeon UK, and Nicktoons UK', 'Facebook Watch',\n",
       "       'Nat Geo Kids ', 'Channel 5', 'Inspidea', 'CBeebies, Family Jr.',\n",
       "       'ABC Kids, TV2, CBeebies, Netflix', 'Dreamtoon', 'RCTI',\n",
       "       'TVNZ 2 , CBeebies , Nick Jr. ', 'Sprout, Nat Geo Kids', 'Rai 3',\n",
       "       'Netflix, YTV', 'Youtube', 'NITV',\n",
       "       'BBC Two, CBeebies, Discovery Kids', 'Discovery Kids India', 'Bip',\n",
       "       'Carousel', 'ZDF', 'CITV , Channel 5 ', 'KRO, Noggin', 'Cinemax',\n",
       "       'TFOU TV, Discovery Kids', 'Canal+ and EBS',\n",
       "       'Toon Disney Rai 2 , Antena 3 ', 'Nickelodeon India',\n",
       "       'CBC Television, Nickelodeon', 'Playhouse Disney, Disney Junior',\n",
       "       'RTBF, TéléTOON+, Cartoon Network, Boomerang',\n",
       "       'Nickelodeon, Nicktoons Network', 'Nickelodeon, YTV, Nicktoons',\n",
       "       'BBC Two, CBeebies', 'RTP 2', 'The N', 'ZooMoo Network',\n",
       "       'Nickelodeon Brazil', 'Mega Channel', 'Sony YAY!',\n",
       "       'The Comedy Channel', 'TVC', 'Gloob, TVN', 'Viceland',\n",
       "       'La Trois, Discovery Kids', 'France 3, Boomerang',\n",
       "       'Network Ten, YTV', 'Discovery Kids, PBS Kids',\n",
       "       'CBeebies, Nick Jr', 'Rai Yoyo', 'CBC Television, Discovery Kids',\n",
       "       'Knowledge Network, TVOKids', 'TVtropolis', 'France 3, Teletoon',\n",
       "       'CBC', 'PBS Kids, Nat Geo Kids', 'Teletoon, Logo',\n",
       "       'France 3, Cartoon Network',\n",
       "       'Nickelodeon, Nick Jr., BBC, Discovery Kids', 'YTV, Pakapaka',\n",
       "       'France 3, Seven Network', 'KiKa, ARD', 'Network Ten, The Hub',\n",
       "       'Nickelodeon Sonic, Rishtey, Nick HD+', 'France 2, Teletoon',\n",
       "       'Family, Disney XD', 'PBS Kids, Sprout',\n",
       "       'Gulli, Teletoon, Canal J', 'Cartoon Network, Disney+', 'E!',\n",
       "       'ABS-CBN', 'ABC Family, Jetix',\n",
       "       'PBS Kids, CBC Kids, Discovery Kids', 'Current TV', 'ABC2',\n",
       "       'TVB Jade', 'Discovery Kids ', 'Discovery Kids, Teletoon',\n",
       "       'ABC, CBeebies, Playhouse Disney, Discovery Kids', 'BBC One, CBBC',\n",
       "       'Channel 5, Cartoon Network', 'TF1, La Trois',\n",
       "       'Abel Studios channel', 'Myx TV',\n",
       "       'Sprout, Universal Kids, Discovery Kids',\n",
       "       'Disney Channel, ABC Kids', 'Jetix, France 3, Teletoon',\n",
       "       'Cartoon Network , Boomerang ', 'The Movie Network',\n",
       "       'Disney Channel, YTV', 'Spike', 'EBS, Nick Jr.',\n",
       "       'Discovery Kids, NBC', 'Sky Sports F1', 'ZooMoo', \"Kids' CBC\",\n",
       "       'Amazon', 'YTV, 4Kids TV', 'Universal Kids, Peacock',\n",
       "       'Discovery Kids, TLC', 'Rai 2, Nickelodeon',\n",
       "       'PBS Kids Go!,PBS Kids', 'PBS Kids, Discovey Kids',\n",
       "       'CBC Television, Toon-A-Vision, Qubo, Cartoon Network, Super RTL, Gloob',\n",
       "       'ABC3, Pop', 'KBS2 and KBS1', 'CBBC, RTÉjr', 'Pop'], dtype=object)"
      ]
     },
     "execution_count": 31,
     "metadata": {},
     "output_type": "execute_result"
    }
   ],
   "source": [
    "#df_channel['original_channels'].unique()"
   ]
  },
  {
   "cell_type": "code",
   "execution_count": 32,
   "id": "5b49763c",
   "metadata": {},
   "outputs": [],
   "source": [
    "#Unstacking to rows\n",
    "#convert to list types\n",
    "df_channel['original_channels'] = df_channel['original_channels'].str.split(',')"
   ]
  },
  {
   "cell_type": "code",
   "execution_count": 36,
   "id": "77504e82",
   "metadata": {},
   "outputs": [],
   "source": [
    "#use the explode method for unstacking comma separated entries while maintaining their title_id's\n",
    "df_channel = df_channel.explode('original_channels')"
   ]
  },
  {
   "cell_type": "code",
   "execution_count": 38,
   "id": "eb926a61",
   "metadata": {},
   "outputs": [],
   "source": [
    "#Remove trailing and beginning spaces using strip\n",
    "df_channel['original_channels'] = df_channel['original_channels'].str.strip()"
   ]
  },
  {
   "cell_type": "code",
   "execution_count": 48,
   "id": "34d861c9",
   "metadata": {},
   "outputs": [],
   "source": [
    "#df_channel['original_channels'].unique()"
   ]
  },
  {
   "cell_type": "code",
   "execution_count": 40,
   "id": "cbce018d",
   "metadata": {},
   "outputs": [],
   "source": [
    "to_replace = ['Nick Jr', 'BBC One', 'BBC Two', 'BBC1 BBC Two']\n",
    "value = ['Nick Jr.', 'BBC1', 'BBC2', 'BBC One and BBC Two']\n",
    "df_channel['original_channels'] = df_channel['original_channels'].replace(to_replace=to_replace, value=value)   "
   ]
  },
  {
   "cell_type": "markdown",
   "id": "ad70a617",
   "metadata": {},
   "source": [
    "**The technique table has similar inconsistencies like the channels column**\n",
    "+ some contain information with brackets, for this analysis, those extra info would be removed  \n",
    "+ some techniques are separated with 'and', '/' and ',' which would be coverted to ','\n",
    "+ unstacking the rows"
   ]
  },
  {
   "cell_type": "code",
   "execution_count": 90,
   "id": "cd94b0e9",
   "metadata": {},
   "outputs": [],
   "source": [
    "def technique_regex(original_list):\n",
    "    new_list = list()\n",
    "    pattern_1 = re.compile(r'\\([a-zA-Z0-9-,\\?;—–\\.!\\s/\"]+\\)')\n",
    "    pattern_2 = re.compile(r'/|and|;')\n",
    "    for string in original_list:\n",
    "        if pattern_1.search(str(string)):\n",
    "            intermediate_value = pattern_1.sub('', str(string))\n",
    "            if pattern_2.search(str(intermediate_value)):\n",
    "                new_list.append(pattern_2.sub(',', intermediate_value))\n",
    "            else:\n",
    "                new_list.append(intermediate_value)\n",
    "        elif pattern_2.search(str(string)):\n",
    "            new_list.append(pattern_2.sub(',', string))\n",
    "        else:\n",
    "            new_list.append(str(string))\n",
    "    return new_list"
   ]
  },
  {
   "cell_type": "code",
   "execution_count": 89,
   "id": "777ec90c",
   "metadata": {},
   "outputs": [
    {
     "name": "stdout",
     "output_type": "stream",
     "text": [
      "<re.Match object; span=(0, 47), match='(first four seasons; Season 5 uses stop-motion)'>\n"
     ]
    }
   ],
   "source": [
    "# g = '(first four seasons; Season 5 uses stop-motion)'\n",
    "# patterns = re.compile(r'\\([a-zA-Z0-9-,\\?;—–\\.!\\s/\"]+\\)')\n",
    "# matches = patterns.finditer(g)\n",
    "# for match in matches:\n",
    "#     print(match)"
   ]
  },
  {
   "cell_type": "code",
   "execution_count": 93,
   "id": "b3f995af",
   "metadata": {},
   "outputs": [],
   "source": [
    "df_technique['technique'] = technique_regex(df_technique['technique'].to_list())"
   ]
  },
  {
   "cell_type": "code",
   "execution_count": 95,
   "id": "65528d3f",
   "metadata": {},
   "outputs": [],
   "source": [
    "#Unstacking to rows\n",
    "#convert to list types\n",
    "df_technique['technique'] = df_technique['technique'].str.split(',')"
   ]
  },
  {
   "cell_type": "code",
   "execution_count": 97,
   "id": "9c1f9e6f",
   "metadata": {},
   "outputs": [],
   "source": [
    "#use the explode method for unstacking comma separated entries while maintaining their title_id's\n",
    "df_technique = df_technique.explode('technique')"
   ]
  },
  {
   "cell_type": "code",
   "execution_count": 98,
   "id": "69243ec6",
   "metadata": {},
   "outputs": [],
   "source": [
    "#Remove trailing and beginning spaces using strip\n",
    "df_technique['technique'] = df_technique['technique'].str.strip()"
   ]
  },
  {
   "cell_type": "code",
   "execution_count": 99,
   "id": "7a6a2944",
   "metadata": {},
   "outputs": [
    {
     "data": {
      "text/plain": [
       "array(['Flash', 'CGI', 'Traditional', 'Stop-Motion', 'Live-Action',\n",
       "       'later Flash', 'Cutout animation', 'Toon Boom Harmony',\n",
       "       'Syncro-Vox', 'Live-action', 'Stop motion', 'Stop-motion',\n",
       "       'Traditional  Flash', 'Live Action', 'Claymation', 'Live action',\n",
       "       'Stop Motion', 'Toon Boom', 'Toon Boom[1]', 'ToonBoom Harmony',\n",
       "       'Rotoscope', 'Toon-Boom', 'Animation', 'nan', 'Toom Boon',\n",
       "       'Mostly traditional'], dtype=object)"
      ]
     },
     "execution_count": 99,
     "metadata": {},
     "output_type": "execute_result"
    }
   ],
   "source": [
    "df_technique['technique'].unique()"
   ]
  },
  {
   "cell_type": "code",
   "execution_count": 109,
   "id": "eacee64b",
   "metadata": {},
   "outputs": [],
   "source": [
    "to_replace=['later Flash', 'Animation', 'Stop-Motion', 'Stop motion','Live action' ,'Live-Action', 'Live-action','Stop-motion','Mostly traditional','Toom Boon','Toon-Boom', 'Toon Boom[1]','Toon Boom Harmony', 'ToonBoom Harmony']\n",
    "value = ['Flash','2D Animation', 'Stop Motion', 'Stop Motion','Live Action' ,'Live Action','Live Action', 'Stop Motion', 'Traditional', 'Toon Boom', 'Toon Boom', 'Toon Boom', 'Toon Boom', 'Toon Boom']\n",
    "df_technique['technique'] = df_technique['technique'].replace(to_replace=to_replace, value=value)"
   ]
  },
  {
   "cell_type": "code",
   "execution_count": 117,
   "id": "70c8f6b0",
   "metadata": {},
   "outputs": [
    {
     "data": {
      "text/html": [
       "<div>\n",
       "<style scoped>\n",
       "    .dataframe tbody tr th:only-of-type {\n",
       "        vertical-align: middle;\n",
       "    }\n",
       "\n",
       "    .dataframe tbody tr th {\n",
       "        vertical-align: top;\n",
       "    }\n",
       "\n",
       "    .dataframe thead th {\n",
       "        text-align: right;\n",
       "    }\n",
       "</style>\n",
       "<table border=\"1\" class=\"dataframe\">\n",
       "  <thead>\n",
       "    <tr style=\"text-align: right;\">\n",
       "      <th></th>\n",
       "      <th>technique</th>\n",
       "    </tr>\n",
       "    <tr>\n",
       "      <th>title_id</th>\n",
       "      <th></th>\n",
       "    </tr>\n",
       "  </thead>\n",
       "  <tbody>\n",
       "    <tr>\n",
       "      <th>1</th>\n",
       "      <td>Flash</td>\n",
       "    </tr>\n",
       "    <tr>\n",
       "      <th>2</th>\n",
       "      <td>CGI</td>\n",
       "    </tr>\n",
       "    <tr>\n",
       "      <th>3</th>\n",
       "      <td>CGI</td>\n",
       "    </tr>\n",
       "    <tr>\n",
       "      <th>4</th>\n",
       "      <td>Flash</td>\n",
       "    </tr>\n",
       "    <tr>\n",
       "      <th>5</th>\n",
       "      <td>CGI</td>\n",
       "    </tr>\n",
       "  </tbody>\n",
       "</table>\n",
       "</div>"
      ],
      "text/plain": [
       "         technique\n",
       "title_id          \n",
       "1            Flash\n",
       "2              CGI\n",
       "3              CGI\n",
       "4            Flash\n",
       "5              CGI"
      ]
     },
     "execution_count": 117,
     "metadata": {},
     "output_type": "execute_result"
    }
   ],
   "source": []
  },
  {
   "cell_type": "markdown",
   "id": "fd52e816",
   "metadata": {},
   "source": []
  },
  {
   "cell_type": "markdown",
   "id": "95d0e770",
   "metadata": {},
   "source": []
  },
  {
   "cell_type": "markdown",
   "id": "64def6b7",
   "metadata": {},
   "source": [
    "## Export as csv"
   ]
  },
  {
   "cell_type": "code",
   "execution_count": 118,
   "id": "693428c2",
   "metadata": {},
   "outputs": [],
   "source": [
    "df_title.to_csv('title_table.csv')\n",
    "df_country.to_csv('country_table.csv')\n",
    "df_channel.to_csv('channel_table.csv')\n",
    "df_technique.to_csv('technique_table.csv')"
   ]
  },
  {
   "cell_type": "code",
   "execution_count": null,
   "id": "6e11bb58",
   "metadata": {},
   "outputs": [],
   "source": []
  }
 ],
 "metadata": {
  "kernelspec": {
   "display_name": "Python 3 (ipykernel)",
   "language": "python",
   "name": "python3"
  },
  "language_info": {
   "codemirror_mode": {
    "name": "ipython",
    "version": 3
   },
   "file_extension": ".py",
   "mimetype": "text/x-python",
   "name": "python",
   "nbconvert_exporter": "python",
   "pygments_lexer": "ipython3",
   "version": "3.9.2rc1"
  }
 },
 "nbformat": 4,
 "nbformat_minor": 5
}
